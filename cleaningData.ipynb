{
 "cells": [
  {
   "cell_type": "code",
   "execution_count": 58,
   "metadata": {},
   "outputs": [],
   "source": [
    "import pandas as pd\n",
    "import torch"
   ]
  },
  {
   "cell_type": "code",
   "execution_count": 59,
   "metadata": {},
   "outputs": [
    {
     "name": "stderr",
     "output_type": "stream",
     "text": [
      "c:\\Users\\khoil\\anaconda3\\envs\\semanticMatchingEnv\\lib\\site-packages\\openpyxl\\worksheet\\_reader.py:329: UserWarning: Data Validation extension is not supported and will be removed\n",
      "  warn(msg)\n"
     ]
    }
   ],
   "source": [
    "# Load datasets\n",
    "file_path_input = \"data/ABS-MOPS Variables - December 11 2024.xlsm\"\n",
    "file_path_mdr = \"data/mdr Variables 1.xlsx\"\n",
    "\n",
    "\n",
    "input_df = pd.read_excel(file_path_input, sheet_name=\"Data Sheet\", header=12)\n",
    "mdr_df = pd.read_excel(file_path_mdr)\n",
    "\n",
    "input_columns_to_check = [\"Legacy Variable\", \"Variable Name *\", \"Description *\"]\n",
    "mdr_columns_to_check = [\"name\", \"definition\"]"
   ]
  },
  {
   "cell_type": "code",
   "execution_count": 60,
   "metadata": {},
   "outputs": [
    {
     "name": "stdout",
     "output_type": "stream",
     "text": [
      "(395, 28)\n",
      "(41626, 9)\n",
      "(392, 28)\n",
      "(41451, 9)\n",
      "(371, 28)\n",
      "(37836, 9)\n"
     ]
    }
   ],
   "source": [
    "# Remove rows with any null values\n",
    "print(input_df.shape)\n",
    "print(mdr_df.shape)\n",
    "input_df = input_df.dropna(subset=input_columns_to_check)\n",
    "mdr_df = mdr_df.dropna(subset=mdr_columns_to_check)\n",
    "print(input_df.shape)\n",
    "print(mdr_df.shape)\n",
    "input_df = input_df.drop_duplicates(subset=[\"Variable Name *\"])\n",
    "mdr_df = mdr_df.drop_duplicates(subset=[\"name\"])\n",
    "print(input_df.shape)\n",
    "print(mdr_df.shape)"
   ]
  },
  {
   "cell_type": "code",
   "execution_count": 61,
   "metadata": {},
   "outputs": [],
   "source": [
    "# Save cleaned data to new files\n",
    "input_df.to_excel(\"data/cleanInput.xlsx\", index=False)\n",
    "mdr_df.to_excel(\"data/cleanMDR.xlsx\", index=False)\n"
   ]
  }
 ],
 "metadata": {
  "kernelspec": {
   "display_name": "semanticMatchingEnv",
   "language": "python",
   "name": "python3"
  },
  "language_info": {
   "codemirror_mode": {
    "name": "ipython",
    "version": 3
   },
   "file_extension": ".py",
   "mimetype": "text/x-python",
   "name": "python",
   "nbconvert_exporter": "python",
   "pygments_lexer": "ipython3",
   "version": "3.9.21"
  }
 },
 "nbformat": 4,
 "nbformat_minor": 2
}
